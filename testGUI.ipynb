{
 "cells": [
  {
   "cell_type": "code",
   "execution_count": 1,
   "metadata": {},
   "outputs": [
    {
     "name": "stdout",
     "output_type": "stream",
     "text": [
      "connect node A success\n",
      "connect node B success\n"
     ]
    },
    {
     "ename": "KeyboardInterrupt",
     "evalue": "",
     "output_type": "error",
     "traceback": [
      "\u001b[1;31m---------------------------------------------------------------------------\u001b[0m",
      "\u001b[1;31mKeyboardInterrupt\u001b[0m                         Traceback (most recent call last)",
      "\u001b[1;32m~\\AppData\\Local\\Temp\\ipykernel_8696\\3152623225.py\u001b[0m in \u001b[0;36m<module>\u001b[1;34m\u001b[0m\n\u001b[0;32m     45\u001b[0m     \u001b[1;32mwhile\u001b[0m \u001b[1;32mTrue\u001b[0m\u001b[1;33m:\u001b[0m\u001b[1;33m\u001b[0m\u001b[1;33m\u001b[0m\u001b[0m\n\u001b[0;32m     46\u001b[0m         \u001b[1;31m# print(type(image_from_A))\u001b[0m\u001b[1;33m\u001b[0m\u001b[1;33m\u001b[0m\u001b[1;33m\u001b[0m\u001b[0m\n\u001b[1;32m---> 47\u001b[1;33m         \u001b[1;32mif\u001b[0m\u001b[1;33m(\u001b[0m\u001b[0mtype\u001b[0m\u001b[1;33m(\u001b[0m\u001b[0mimage_from_A\u001b[0m\u001b[1;33m)\u001b[0m\u001b[1;33m==\u001b[0m\u001b[1;34m\"<class 'numpy.ndarray'>\"\u001b[0m\u001b[1;33m)\u001b[0m\u001b[1;33m:\u001b[0m\u001b[1;33m\u001b[0m\u001b[1;33m\u001b[0m\u001b[0m\n\u001b[0m\u001b[0;32m     48\u001b[0m             \u001b[0mplt\u001b[0m\u001b[1;33m.\u001b[0m\u001b[0mimshow\u001b[0m\u001b[1;33m(\u001b[0m\u001b[0mimage_from_A\u001b[0m\u001b[1;33m[\u001b[0m\u001b[1;33m:\u001b[0m\u001b[1;33m,\u001b[0m\u001b[1;33m:\u001b[0m\u001b[1;33m,\u001b[0m\u001b[1;33m:\u001b[0m\u001b[1;33m:\u001b[0m\u001b[1;33m-\u001b[0m\u001b[1;36m1\u001b[0m\u001b[1;33m]\u001b[0m\u001b[1;33m)\u001b[0m\u001b[1;33m\u001b[0m\u001b[1;33m\u001b[0m\u001b[0m\n\u001b[0;32m     49\u001b[0m \u001b[1;33m\u001b[0m\u001b[0m\n",
      "\u001b[1;31mKeyboardInterrupt\u001b[0m: "
     ]
    },
    {
     "name": "stderr",
     "output_type": "stream",
     "text": [
      "Unhandled exception in thread started by <function read_image_B_thread at 0x000001A78FB32798>\n",
      "Unhandled exception in thread started by <function read_image_A_thread at 0x000001A7FFA06048>\n"
     ]
    }
   ],
   "source": [
    "import cv2\n",
    "import _thread\n",
    "from read import Read\n",
    "from uartGUI import JetsonGUI\n",
    "import matplotlib.pyplot as plt\n",
    "ip_A = \"127.0.0.1\"\n",
    "ip_B = \"127.0.0.1\"\n",
    "\n",
    "image_from_A = None\n",
    "image_from_B = None\n",
    "\n",
    "def read_image_A_thread(thread_name, reader):\n",
    "    global image_from_A, time_from_A, t\n",
    "    while True:\n",
    "        temp_t = cv2.getTickCount()\n",
    "        image1, time_from_A = reader.receive_image()\n",
    "        image_from_A = image1.copy()\n",
    "        t = 1.0 / ((cv2.getTickCount() - temp_t) / cv2.getTickFrequency())\n",
    "        # print(\"A\", int(t))\n",
    "\n",
    "\n",
    "def read_image_B_thread(thread_name, reader):\n",
    "    global image_from_B, time_from_B, t\n",
    "    while True:\n",
    "        temp_t = cv2.getTickCount()\n",
    "        image1, time_from_B = reader.receive_image()\n",
    "        image_from_B = image1.copy()\n",
    "        t = 1.0 / ((cv2.getTickCount() - temp_t) / cv2.getTickFrequency())\n",
    "        # print(\"B\", int(t))\n",
    "\n",
    "\n",
    "def start_thread():\n",
    "    reader_A = Read()\n",
    "    reader_A.set_read_config(ip_A, 8001)\n",
    "    _thread.start_new_thread(read_image_A_thread, (\"1\", reader_A))\n",
    "    print(\"connect node A success\")\n",
    "    reader_B = Read()\n",
    "    reader_B.set_read_config(ip_B, 8001)\n",
    "    _thread.start_new_thread(read_image_B_thread, (\"1\", reader_B))\n",
    "    print(\"connect node B success\")\n",
    "    image_from_B=image_from_A\n",
    "    \n",
    "if __name__ == '__main__':\n",
    "    start_thread()\n",
    "    while True:\n",
    "        # print(type(image_from_A))\n",
    "        if(type(image_from_A)==\"<class 'numpy.ndarray'>\"):\n",
    "            plt.imshow(image_from_A[:,:,::-1])\n",
    "            \n",
    "    # MyGUI=JetsonGUI()"
   ]
  }
 ],
 "metadata": {
  "kernelspec": {
   "display_name": "Python 3",
   "language": "python",
   "name": "python3"
  },
  "language_info": {
   "codemirror_mode": {
    "name": "ipython",
    "version": 3
   },
   "file_extension": ".py",
   "mimetype": "text/x-python",
   "name": "python",
   "nbconvert_exporter": "python",
   "pygments_lexer": "ipython3",
   "version": "3.7.5"
  },
  "orig_nbformat": 4
 },
 "nbformat": 4,
 "nbformat_minor": 2
}
